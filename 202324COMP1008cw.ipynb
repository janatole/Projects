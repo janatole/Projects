{
 "cells": [
  {
   "cell_type": "markdown",
   "metadata": {},
   "source": [
    "# COMP1008 2023/24 Coursework - Prediction with Machine Learning\n",
    "\n",
    "#### Student Name: [Enter your full name here]\n",
    "#### Student ID: [Enter your student ID here]\n",
    "\n",
    "## Task description\n",
    "\n",
    "<b>Main task</b>: Choose <b>one</b> of the following datasets. Build a linear regression model and another machine learning model of your choice to conduct predictions on future new unseen data. Use approporate methods in pandas, matplotlib and sklearn libraries to analyse and process your dataset for building models for your chosen prediction task.\n",
    "- Movies_Ratings: predict movie ratings\n",
    "- Shared_Bike_Demand: predict bike sharing demand\n",
    "- Forest_Fires_Area: predict areas of forest fires\n",
    "- Obesity_Level: predict level of obesity\n",
    "\n",
    "<b>Format</b>: Use this Jupyter Notebook file as a template to write your report in `Markdown` cells, supported by your appropriate source codes in `Code` cells which produce the corresponding plots or results answering the questions. Rename this .ipynb file `202324COMP1008cw-XXX.ipynb`, where XXX is your username (e.g. psxyz), and submit it to Moodle by <b><font color = \"red\">22 March, 3pm</font></b>.\n",
    "\n",
    "<b>Marks</b>: In total 100 marks (count for 25% in COMP1008), awarded on the basis of understanding on machine learning theories, how informative and well presented your code, visualisations and results are (e.g. comment for code, necessary labels in plots), self-learning ability solving the specific problem, and succinct report writing.\n",
    "\n",
    "Please check the detailed instructions at the end of this template file."
   ]
  },
  {
   "cell_type": "markdown",
   "metadata": {
    "tags": []
   },
   "source": [
    "<div class=\"alert alert-success\" style=\"text-align:left;\">\n",
    "<h2>Question 1. Prediction Model 1 - Linear Regression Model<span style=\"float:right;\">[50 marks]</span></h2></div>"
   ]
  },
  {
   "cell_type": "markdown",
   "metadata": {},
   "source": [
    "#### Question 1a <span style=\"color:red\">(5 marks)</span> \n",
    "Briefly explain the characteristics of the dataset that make it suitable for regression analysis. Your justification should demonstrate your understanding of the linear regression model."
   ]
  },
  {
   "cell_type": "markdown",
   "metadata": {},
   "source": [
    "<b>Q1a Answer</b>: For a dateset to be suitable for regression analysis, it must be able to be stored in a continous manner rather than solely categorical. This is so that the MSE (Mean Squared Error) can be calculated and minimised. Additionally, Linear Regression is a form of Supervised Learning therefore needs labelled training data in which each example has an input and desired output. As I have chosen to predict the level of Obesity, weight is a category that is labelled and can be stored continously. This trend follows with other categories such as height and age."
   ]
  },
  {
   "cell_type": "code",
   "execution_count": null,
   "metadata": {},
   "outputs": [],
   "source": [
    "# Your code here. Add more cells as you need.\n",
    "# import approporate libraries\n"
   ]
  },
  {
   "cell_type": "markdown",
   "metadata": {},
   "source": [
    "#### Question 1b <span style=\"color:red\">(15 marks)</span>\n",
    "Use approporate methods in pandas and/or matplotlib libraries to analyse your dataset. Are there issues you observe in which part(s) of the data? What would happen if the data is not pre-processed properly?"
   ]
  },
  {
   "cell_type": "markdown",
   "metadata": {},
   "source": [
    "<b>Q1b answer</b>: The mean weight of the dataset is 86.59(2.d.p) with a standard deviation of 26.19 suggesting that the data is spread out."
   ]
  },
  {
   "cell_type": "code",
   "execution_count": null,
   "metadata": {
    "scrolled": true
   },
   "outputs": [],
   "source": [
    "# Your code here\n"
   ]
  },
  {
   "cell_type": "markdown",
   "metadata": {},
   "source": [
    "#### Question 1c <span style=\"color:red\">(20 marks)</span>\n",
    "Use approporate methods to address the issues identified in <b>Q1b</b>.</span> Brielfy explain the methods and their parameters you used to address the issues.<br>"
   ]
  },
  {
   "cell_type": "markdown",
   "metadata": {},
   "source": [
    "<b>Q1c answer</b>: "
   ]
  },
  {
   "cell_type": "code",
   "execution_count": null,
   "metadata": {},
   "outputs": [],
   "source": [
    "# Your code here\n"
   ]
  },
  {
   "cell_type": "markdown",
   "metadata": {},
   "source": [
    "#### Question 1d <span style=\"color:red\">(10 marks)</span>\n",
    "Build and train a linear regression model. Print its weights and accuracy. Which is the most important feature and how to interpret its contribution to your prediction?"
   ]
  },
  {
   "cell_type": "markdown",
   "metadata": {},
   "source": [
    "<b>Q1d answer</b>: "
   ]
  },
  {
   "cell_type": "code",
   "execution_count": null,
   "metadata": {},
   "outputs": [],
   "source": [
    "# Your code here\n"
   ]
  },
  {
   "cell_type": "markdown",
   "metadata": {
    "tags": []
   },
   "source": [
    "<div class=\"alert alert-success\" style=\"text-align:left;\"><h2>Question 2. Prediction Model 2<span style=\"float:right;\">[20 marks]</span></h2></div>"
   ]
  },
  {
   "cell_type": "markdown",
   "metadata": {},
   "source": [
    "#### Question 2a <span style=\"color:red\">(10 marks)</span>\n",
    "For the same dataset, build a different machine learning model for your prediction task.<br>\n",
    "Which model did you choose and why? What are the parameters of your Prediction Model 2?</span>"
   ]
  },
  {
   "cell_type": "markdown",
   "metadata": {},
   "source": [
    "<b>Q2a answer</b>: "
   ]
  },
  {
   "cell_type": "code",
   "execution_count": null,
   "metadata": {},
   "outputs": [],
   "source": [
    "# Your code here\n"
   ]
  },
  {
   "cell_type": "markdown",
   "metadata": {},
   "source": [
    "#### Question 2b <span style=\"color:red\">(10 marks)</span>\n",
    "Evaluate the model you built. Explain if this model is better or worse than Prediction Model 1, and in which way."
   ]
  },
  {
   "cell_type": "markdown",
   "metadata": {},
   "source": [
    "<b>Q2b answer</b>: "
   ]
  },
  {
   "cell_type": "code",
   "execution_count": null,
   "metadata": {
    "tags": []
   },
   "outputs": [],
   "source": [
    "# Your code here\n"
   ]
  },
  {
   "cell_type": "markdown",
   "metadata": {},
   "source": [
    "\n"
   ]
  },
  {
   "cell_type": "markdown",
   "metadata": {},
   "source": [
    "<div class=\"alert alert-success\" style=\"text-align:left;\"><h2>Question 3. Comparison and Improvement<span style=\"float:right;\">[30 marks]</span></h2></div>"
   ]
  },
  {
   "cell_type": "markdown",
   "metadata": {
    "tags": []
   },
   "source": [
    "#### Question 3a <span style=\"color:red\">(15 marks)</span>\n",
    "Based on your Prediction Model 1, remove the least important feature and evaluate the performance of the linear regression model. In which way the feature removal impacts the model performance?"
   ]
  },
  {
   "cell_type": "markdown",
   "metadata": {},
   "source": [
    "<b>Q3a answer</b>:"
   ]
  },
  {
   "cell_type": "code",
   "execution_count": null,
   "metadata": {
    "scrolled": true
   },
   "outputs": [],
   "source": [
    "# Your code here\n"
   ]
  },
  {
   "cell_type": "markdown",
   "metadata": {},
   "source": [
    "#### Question 3b <span style=\"color:red\">(15 marks)</span>\n",
    "By referring to your above relevant observations, what would you suggest to do in the future to build better models for predicting on new data instances? Why?<br>\n",
    "<b>Hint</b>: based on relevant analysis, feature selection, feature scaling and data processing (e.g. resolve imbalanced samples, errors and outliers, etc.) could all potentially improve the model by reducing training time, fixing overfitting and improving interpretability, etc. You can also explore external resources for other potential approaches or techniques.<br>\n",
    "<b>Note</b>: Coding is optional here, but your answers should be supported by relevant analysis or justifications."
   ]
  },
  {
   "cell_type": "markdown",
   "metadata": {},
   "source": [
    "<b>Q3b answer</b>:"
   ]
  },
  {
   "cell_type": "markdown",
   "metadata": {},
   "source": [
    "## Appendix. Coursework Instructions\n",
    "\n",
    "<b>Coursework Support</b>:\n",
    "- COM1008 computing tutorials and exercises on data processing and machine learning models on different example problems\n",
    "- Example code building and analysing machine learning models in COMP1008 lectures slides on 'Machine learning'\n",
    "- In the computing sessions, Q&A support for developing .ipynb projects\n",
    "- In Teams channel 'COMP1008 2023/24 / Questions': support of common questions\n",
    "\n",
    "<b>Marks</b>: in total 100 marks (count for 25% in COMP1008), awarded on the basis of:\n",
    "- knowledge and understanding on the theories covered in lectures when answering the questions in the Jupyter Notebook report\n",
    "- how informative and well presented your code, visualisations and results are (e.g. necessary labels in plots)\n",
    "- self-learning ability making use of tutorial materials and online resources\n",
    "- problem solving skills to obtain the answers and results for the specific dataset\n",
    "- concise report with key details, e.g. parameters, data, etc. for others to repeat your methods and obtain the same results.\n",
    "\n",
    "For more information of COMP1008 assessment please refer to the coursework issue <a href=\"https://moodle.nottingham.ac.uk/pluginfile.php/9528816/mod_label/intro/COMP1008_assessment_sheet.pdf?time=1707914843647\">form</a> in Moodle ('Course Content / Assessment')."
   ]
  },
  {
   "cell_type": "markdown",
   "metadata": {},
   "source": [
    "<b>Format</b>:\n",
    "- One single .ipynb file named 202324COMP1008cw-XXX.ipynb, where XXX is your username (e.g. psxyz)\n",
    "- The .ipynb file should include your code and answers, using this given .ipynb template (please add cells as needed)\n",
    "- You could use additional Python libraries as you wish, in addition to the ones demonstrated in the computing sessions\n",
    "- There are multiple ways using different methods to complete the tasks. These are fine as long as all answers and analysis are supported by the code implemented in Jupyter Notebook, not by using other means (e.g. operations in Excel, or by using other languages, etc.).\n",
    "\n",
    "<b>Submission</b>: \n",
    "- Deadline: 22nd March 2024 3pm\n",
    "- Late submission leads to a 5% deduction of the coursework on each weekday. Work submitted one week late will receive a 0 for the coursework.\n",
    "- Method: in Moodle submit a single .ipynb file named 202324COMP1008cw-XXX.ipynb\n",
    "- If you can’t submit your coursework on time due to ECs, please contact Student Services and your personal tutor ASAP"
   ]
  },
  {
   "cell_type": "markdown",
   "metadata": {
    "tags": []
   },
   "source": [
    "<b>Note: Plagiarism vs. Group Discussions</b> \n",
    "\n",
    "As you should know, plagiarism is completely unacceptable and will be dealt with according to University's standard policies.<br>\n",
    "Students are encouraged to have only general discussions on the theory (not the specific questions) when completing the coursework.<br>\n",
    "It is important that when you actually do your coursework and write the answers, you do it individually.<br>\n",
    "Do NOT, under any circumstances, share your report, code or figures, etc. with anyone else."
   ]
  }
 ],
 "metadata": {
  "kernelspec": {
   "display_name": "Python 3 (ipykernel)",
   "language": "python",
   "name": "python3"
  },
  "language_info": {
   "codemirror_mode": {
    "name": "ipython",
    "version": 3
   },
   "file_extension": ".py",
   "mimetype": "text/x-python",
   "name": "python",
   "nbconvert_exporter": "python",
   "pygments_lexer": "ipython3",
   "version": "3.9.12"
  }
 },
 "nbformat": 4,
 "nbformat_minor": 4
}
